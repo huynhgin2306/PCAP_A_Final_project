{
 "cells": [
  {
   "cell_type": "code",
   "execution_count": 2,
   "metadata": {},
   "outputs": [],
   "source": [
    "import pandas as pd\n",
    "import numpy as np\n",
    "import matplotlib.pyplot as plt\n",
    "import seaborn as sns\n",
    "import datetime as dt\n",
    "from datetime import timedelta\n",
    "from pandas import DatetimeIndex\n",
    "from pandas import Timestamp\n",
    "from sklearn.metrics import mean_squared_error,r2_score, mean_absolute_error\n",
    "from sklearn.linear_model import LinearRegression\n",
    "from sklearn.preprocessing import PolynomialFeatures\n",
    "from sklearn.neural_network import MLPRegressor\n",
    "from sklearn.ensemble import RandomForestRegressor\n",
    "from sklearn.tree import DecisionTreeRegressor\n",
    "from sklearn.model_selection import train_test_split\n",
    "import time\n",
    "\n",
    "%matplotlib inline"
   ]
  },
  {
   "cell_type": "code",
   "execution_count": 3,
   "metadata": {},
   "outputs": [
    {
     "data": {
      "text/html": [
       "<div>\n",
       "<style scoped>\n",
       "    .dataframe tbody tr th:only-of-type {\n",
       "        vertical-align: middle;\n",
       "    }\n",
       "\n",
       "    .dataframe tbody tr th {\n",
       "        vertical-align: top;\n",
       "    }\n",
       "\n",
       "    .dataframe thead th {\n",
       "        text-align: right;\n",
       "    }\n",
       "</style>\n",
       "<table border=\"1\" class=\"dataframe\">\n",
       "  <thead>\n",
       "    <tr style=\"text-align: right;\">\n",
       "      <th></th>\n",
       "      <th>Date</th>\n",
       "      <th>An Giang</th>\n",
       "      <th>Ba Ria - Vung Tau</th>\n",
       "      <th>Bac Giang</th>\n",
       "      <th>Bac Kan</th>\n",
       "      <th>Bac Lieu</th>\n",
       "      <th>Bac Ninh</th>\n",
       "      <th>Ben Tre</th>\n",
       "      <th>Binh Dinh</th>\n",
       "      <th>Binh Duong</th>\n",
       "      <th>...</th>\n",
       "      <th>Thai Nguyen</th>\n",
       "      <th>Thanh Hoa</th>\n",
       "      <th>Thua Thien Hue</th>\n",
       "      <th>Tien Giang</th>\n",
       "      <th>Ho Chi Minh</th>\n",
       "      <th>Tra Vinh</th>\n",
       "      <th>Tuyen Quang</th>\n",
       "      <th>Vinh Long</th>\n",
       "      <th>Vinh Phuc</th>\n",
       "      <th>Yen Bai</th>\n",
       "    </tr>\n",
       "  </thead>\n",
       "  <tbody>\n",
       "    <tr>\n",
       "      <th>0</th>\n",
       "      <td>27/04/2021</td>\n",
       "      <td>0</td>\n",
       "      <td>0</td>\n",
       "      <td>0</td>\n",
       "      <td>0</td>\n",
       "      <td>0</td>\n",
       "      <td>0</td>\n",
       "      <td>0</td>\n",
       "      <td>0.0</td>\n",
       "      <td>0</td>\n",
       "      <td>...</td>\n",
       "      <td>0</td>\n",
       "      <td>0</td>\n",
       "      <td>0</td>\n",
       "      <td>0</td>\n",
       "      <td>0</td>\n",
       "      <td>0</td>\n",
       "      <td>0</td>\n",
       "      <td>0</td>\n",
       "      <td>0.0</td>\n",
       "      <td>0</td>\n",
       "    </tr>\n",
       "    <tr>\n",
       "      <th>1</th>\n",
       "      <td>28/04/2021</td>\n",
       "      <td>0</td>\n",
       "      <td>0</td>\n",
       "      <td>0</td>\n",
       "      <td>0</td>\n",
       "      <td>0</td>\n",
       "      <td>0</td>\n",
       "      <td>0</td>\n",
       "      <td>0.0</td>\n",
       "      <td>0</td>\n",
       "      <td>...</td>\n",
       "      <td>0</td>\n",
       "      <td>0</td>\n",
       "      <td>0</td>\n",
       "      <td>0</td>\n",
       "      <td>0</td>\n",
       "      <td>0</td>\n",
       "      <td>0</td>\n",
       "      <td>0</td>\n",
       "      <td>0.0</td>\n",
       "      <td>0</td>\n",
       "    </tr>\n",
       "    <tr>\n",
       "      <th>2</th>\n",
       "      <td>29/04/2021</td>\n",
       "      <td>0</td>\n",
       "      <td>0</td>\n",
       "      <td>0</td>\n",
       "      <td>0</td>\n",
       "      <td>0</td>\n",
       "      <td>0</td>\n",
       "      <td>0</td>\n",
       "      <td>0.0</td>\n",
       "      <td>0</td>\n",
       "      <td>...</td>\n",
       "      <td>0</td>\n",
       "      <td>0</td>\n",
       "      <td>0</td>\n",
       "      <td>0</td>\n",
       "      <td>1</td>\n",
       "      <td>0</td>\n",
       "      <td>0</td>\n",
       "      <td>0</td>\n",
       "      <td>0.0</td>\n",
       "      <td>0</td>\n",
       "    </tr>\n",
       "    <tr>\n",
       "      <th>3</th>\n",
       "      <td>30/04/2021</td>\n",
       "      <td>0</td>\n",
       "      <td>0</td>\n",
       "      <td>0</td>\n",
       "      <td>0</td>\n",
       "      <td>0</td>\n",
       "      <td>0</td>\n",
       "      <td>0</td>\n",
       "      <td>0.0</td>\n",
       "      <td>0</td>\n",
       "      <td>...</td>\n",
       "      <td>0</td>\n",
       "      <td>0</td>\n",
       "      <td>0</td>\n",
       "      <td>0</td>\n",
       "      <td>0</td>\n",
       "      <td>0</td>\n",
       "      <td>0</td>\n",
       "      <td>0</td>\n",
       "      <td>0.0</td>\n",
       "      <td>0</td>\n",
       "    </tr>\n",
       "    <tr>\n",
       "      <th>4</th>\n",
       "      <td>1/5/2021</td>\n",
       "      <td>0</td>\n",
       "      <td>0</td>\n",
       "      <td>0</td>\n",
       "      <td>0</td>\n",
       "      <td>0</td>\n",
       "      <td>0</td>\n",
       "      <td>0</td>\n",
       "      <td>0.0</td>\n",
       "      <td>0</td>\n",
       "      <td>...</td>\n",
       "      <td>0</td>\n",
       "      <td>0</td>\n",
       "      <td>0</td>\n",
       "      <td>0</td>\n",
       "      <td>0</td>\n",
       "      <td>0</td>\n",
       "      <td>0</td>\n",
       "      <td>0</td>\n",
       "      <td>0.0</td>\n",
       "      <td>0</td>\n",
       "    </tr>\n",
       "  </tbody>\n",
       "</table>\n",
       "<p>5 rows × 64 columns</p>\n",
       "</div>"
      ],
      "text/plain": [
       "         Date  An Giang  Ba Ria - Vung Tau  Bac Giang  Bac Kan  Bac Lieu  \\\n",
       "0  27/04/2021         0                  0          0        0         0   \n",
       "1  28/04/2021         0                  0          0        0         0   \n",
       "2  29/04/2021         0                  0          0        0         0   \n",
       "3  30/04/2021         0                  0          0        0         0   \n",
       "4    1/5/2021         0                  0          0        0         0   \n",
       "\n",
       "   Bac Ninh  Ben Tre  Binh Dinh  Binh Duong  ...  Thai Nguyen  Thanh Hoa  \\\n",
       "0         0        0        0.0           0  ...            0          0   \n",
       "1         0        0        0.0           0  ...            0          0   \n",
       "2         0        0        0.0           0  ...            0          0   \n",
       "3         0        0        0.0           0  ...            0          0   \n",
       "4         0        0        0.0           0  ...            0          0   \n",
       "\n",
       "   Thua Thien Hue  Tien Giang  Ho Chi Minh  Tra Vinh  Tuyen Quang  Vinh Long  \\\n",
       "0               0           0            0         0            0          0   \n",
       "1               0           0            0         0            0          0   \n",
       "2               0           0            1         0            0          0   \n",
       "3               0           0            0         0            0          0   \n",
       "4               0           0            0         0            0          0   \n",
       "\n",
       "   Vinh Phuc  Yen Bai  \n",
       "0        0.0        0  \n",
       "1        0.0        0  \n",
       "2        0.0        0  \n",
       "3        0.0        0  \n",
       "4        0.0        0  \n",
       "\n",
       "[5 rows x 64 columns]"
      ]
     },
     "execution_count": 3,
     "metadata": {},
     "output_type": "execute_result"
    }
   ],
   "source": [
    "#read data\n",
    "df = pd.read_csv('./data.csv')\n",
    "df.head()"
   ]
  },
  {
   "cell_type": "code",
   "execution_count": 4,
   "metadata": {},
   "outputs": [
    {
     "data": {
      "text/html": [
       "<div>\n",
       "<style scoped>\n",
       "    .dataframe tbody tr th:only-of-type {\n",
       "        vertical-align: middle;\n",
       "    }\n",
       "\n",
       "    .dataframe tbody tr th {\n",
       "        vertical-align: top;\n",
       "    }\n",
       "\n",
       "    .dataframe thead th {\n",
       "        text-align: right;\n",
       "    }\n",
       "</style>\n",
       "<table border=\"1\" class=\"dataframe\">\n",
       "  <thead>\n",
       "    <tr style=\"text-align: right;\">\n",
       "      <th></th>\n",
       "      <th>Date</th>\n",
       "      <th>An Giang</th>\n",
       "      <th>Ba Ria - Vung Tau</th>\n",
       "      <th>Bac Giang</th>\n",
       "      <th>Bac Kan</th>\n",
       "      <th>Bac Lieu</th>\n",
       "      <th>Bac Ninh</th>\n",
       "      <th>Ben Tre</th>\n",
       "      <th>Binh Dinh</th>\n",
       "      <th>Binh Duong</th>\n",
       "      <th>...</th>\n",
       "      <th>Thai Nguyen</th>\n",
       "      <th>Thanh Hoa</th>\n",
       "      <th>Thua Thien Hue</th>\n",
       "      <th>Tien Giang</th>\n",
       "      <th>Ho Chi Minh</th>\n",
       "      <th>Tra Vinh</th>\n",
       "      <th>Tuyen Quang</th>\n",
       "      <th>Vinh Long</th>\n",
       "      <th>Vinh Phuc</th>\n",
       "      <th>Yen Bai</th>\n",
       "    </tr>\n",
       "  </thead>\n",
       "  <tbody>\n",
       "    <tr>\n",
       "      <th>8</th>\n",
       "      <td>5/5/2021</td>\n",
       "      <td>0</td>\n",
       "      <td>0</td>\n",
       "      <td>0</td>\n",
       "      <td>0</td>\n",
       "      <td>0</td>\n",
       "      <td>0</td>\n",
       "      <td>0</td>\n",
       "      <td>0.0</td>\n",
       "      <td>0</td>\n",
       "      <td>...</td>\n",
       "      <td>0</td>\n",
       "      <td>0</td>\n",
       "      <td>0</td>\n",
       "      <td>0</td>\n",
       "      <td>0</td>\n",
       "      <td>0</td>\n",
       "      <td>0</td>\n",
       "      <td>0</td>\n",
       "      <td>0.0</td>\n",
       "      <td>0</td>\n",
       "    </tr>\n",
       "    <tr>\n",
       "      <th>29</th>\n",
       "      <td>26/05/2021</td>\n",
       "      <td>0</td>\n",
       "      <td>0</td>\n",
       "      <td>121</td>\n",
       "      <td>0</td>\n",
       "      <td>0</td>\n",
       "      <td>91</td>\n",
       "      <td>0</td>\n",
       "      <td>0.0</td>\n",
       "      <td>0</td>\n",
       "      <td>...</td>\n",
       "      <td>1</td>\n",
       "      <td>1</td>\n",
       "      <td>0</td>\n",
       "      <td>0</td>\n",
       "      <td>0</td>\n",
       "      <td>0</td>\n",
       "      <td>0</td>\n",
       "      <td>0</td>\n",
       "      <td>0.0</td>\n",
       "      <td>0</td>\n",
       "    </tr>\n",
       "    <tr>\n",
       "      <th>62</th>\n",
       "      <td>28/06/2021</td>\n",
       "      <td>0</td>\n",
       "      <td>0</td>\n",
       "      <td>33</td>\n",
       "      <td>0</td>\n",
       "      <td>0</td>\n",
       "      <td>16</td>\n",
       "      <td>0</td>\n",
       "      <td>0.0</td>\n",
       "      <td>40</td>\n",
       "      <td>...</td>\n",
       "      <td>0</td>\n",
       "      <td>0</td>\n",
       "      <td>0</td>\n",
       "      <td>0</td>\n",
       "      <td>218</td>\n",
       "      <td>0</td>\n",
       "      <td>0</td>\n",
       "      <td>0</td>\n",
       "      <td>0.0</td>\n",
       "      <td>0</td>\n",
       "    </tr>\n",
       "  </tbody>\n",
       "</table>\n",
       "<p>3 rows × 64 columns</p>\n",
       "</div>"
      ],
      "text/plain": [
       "          Date  An Giang  Ba Ria - Vung Tau  Bac Giang  Bac Kan  Bac Lieu  \\\n",
       "8     5/5/2021         0                  0          0        0         0   \n",
       "29  26/05/2021         0                  0        121        0         0   \n",
       "62  28/06/2021         0                  0         33        0         0   \n",
       "\n",
       "    Bac Ninh  Ben Tre  Binh Dinh  Binh Duong  ...  Thai Nguyen  Thanh Hoa  \\\n",
       "8          0        0        0.0           0  ...            0          0   \n",
       "29        91        0        0.0           0  ...            1          1   \n",
       "62        16        0        0.0          40  ...            0          0   \n",
       "\n",
       "    Thua Thien Hue  Tien Giang  Ho Chi Minh  Tra Vinh  Tuyen Quang  Vinh Long  \\\n",
       "8                0           0            0         0            0          0   \n",
       "29               0           0            0         0            0          0   \n",
       "62               0           0          218         0            0          0   \n",
       "\n",
       "    Vinh Phuc  Yen Bai  \n",
       "8         0.0        0  \n",
       "29        0.0        0  \n",
       "62        0.0        0  \n",
       "\n",
       "[3 rows x 64 columns]"
      ]
     },
     "execution_count": 4,
     "metadata": {},
     "output_type": "execute_result"
    }
   ],
   "source": [
    "df.iloc[np.where(df.isna().sum() !=0)[0]]"
   ]
  },
  {
   "cell_type": "code",
   "execution_count": 5,
   "metadata": {},
   "outputs": [
    {
     "data": {
      "text/plain": [
       "0   2021-04-27\n",
       "1   2021-04-28\n",
       "2   2021-04-29\n",
       "Name: Date, dtype: datetime64[ns]"
      ]
     },
     "execution_count": 5,
     "metadata": {},
     "output_type": "execute_result"
    }
   ],
   "source": [
    "# ép kiểu  String thành Datetime cho ngày\n",
    "df[\"Date\"]= pd.to_datetime(df[\"Date\"], dayfirst = True)\n",
    "df[\"Date\"].head(3)"
   ]
  },
  {
   "cell_type": "code",
   "execution_count": 6,
   "metadata": {},
   "outputs": [
    {
     "name": "stdout",
     "output_type": "stream",
     "text": [
      "Index(['An Giang', 'Ba Ria - Vung Tau', 'Bac Giang', 'Bac Kan', 'Bac Lieu',\n",
      "       'Bac Ninh', 'Ben Tre', 'Binh Dinh', 'Binh Duong', 'Binh Phuoc',\n",
      "       'Binh Thuan', 'Ca Mau', 'Can Tho', 'Cao Bang', 'Da Nang', 'Dak Lak',\n",
      "       'Dak Nong', 'Dien Bien', 'Dong Nai', 'Dong Thap', 'Gia Lai', 'Ha Nam',\n",
      "       'Ha Giang', 'Ha Noi', 'Ha Tinh', 'Hai Duong', 'Hai Phong', 'Hau Giang',\n",
      "       'Hoa Binh', 'Hung Yen', 'Khanh Hoa', 'Kien Giang', 'Kon Tum',\n",
      "       'Lai Chau', 'Lam Dong', 'Lang Son', 'Lao Cai', 'Long An', 'Nam Dinh',\n",
      "       'Nghe An', 'Ninh Binh', 'Ninh Thuan', 'Phu Tho', 'Phu Yen',\n",
      "       'Quang Binh', 'Quang Nam', 'Quang Ngai', 'Quang Ninh', 'Quang Tri',\n",
      "       'Soc Trang', 'Son La', 'Tay Ninh', 'Thai Binh', 'Thai Nguyen',\n",
      "       'Thanh Hoa', 'Thua Thien Hue', 'Tien Giang', 'Ho Chi Minh', 'Tra Vinh',\n",
      "       'Tuyen Quang', 'Vinh Long', 'Vinh Phuc', 'Yen Bai'],\n",
      "      dtype='object')\n",
      "63\n"
     ]
    }
   ],
   "source": [
    "# lấy các tên cột là tỉnh thành \n",
    "province = df.columns[1:]\n",
    "print(province)\n",
    "print(province.size)"
   ]
  },
  {
   "cell_type": "code",
   "execution_count": 7,
   "metadata": {},
   "outputs": [
    {
     "data": {
      "text/html": [
       "<div>\n",
       "<style scoped>\n",
       "    .dataframe tbody tr th:only-of-type {\n",
       "        vertical-align: middle;\n",
       "    }\n",
       "\n",
       "    .dataframe tbody tr th {\n",
       "        vertical-align: top;\n",
       "    }\n",
       "\n",
       "    .dataframe thead th {\n",
       "        text-align: right;\n",
       "    }\n",
       "</style>\n",
       "<table border=\"1\" class=\"dataframe\">\n",
       "  <thead>\n",
       "    <tr style=\"text-align: right;\">\n",
       "      <th></th>\n",
       "      <th>Date</th>\n",
       "      <th>Province</th>\n",
       "      <th>Confirmed</th>\n",
       "    </tr>\n",
       "  </thead>\n",
       "  <tbody>\n",
       "    <tr>\n",
       "      <th>12198</th>\n",
       "      <td>2021-04-27</td>\n",
       "      <td>Ho Chi Minh</td>\n",
       "      <td>0.0</td>\n",
       "    </tr>\n",
       "    <tr>\n",
       "      <th>12199</th>\n",
       "      <td>2021-04-28</td>\n",
       "      <td>Ho Chi Minh</td>\n",
       "      <td>0.0</td>\n",
       "    </tr>\n",
       "    <tr>\n",
       "      <th>12200</th>\n",
       "      <td>2021-04-29</td>\n",
       "      <td>Ho Chi Minh</td>\n",
       "      <td>1.0</td>\n",
       "    </tr>\n",
       "  </tbody>\n",
       "</table>\n",
       "</div>"
      ],
      "text/plain": [
       "            Date     Province  Confirmed\n",
       "12198 2021-04-27  Ho Chi Minh        0.0\n",
       "12199 2021-04-28  Ho Chi Minh        0.0\n",
       "12200 2021-04-29  Ho Chi Minh        1.0"
      ]
     },
     "execution_count": 7,
     "metadata": {},
     "output_type": "execute_result"
    }
   ],
   "source": [
    "# ghép xx ngày với với các từng thành \n",
    "# 1 tỉnh thành trải qua xx ngày\n",
    "df_long = df.melt(id_vars=[\"Date\"], value_vars = province, var_name='Province',value_name=\"Confirmed\")\n",
    "# kiem tra thanh pho HCM\n",
    "df_long.loc[df_long.Province == \"Ho Chi Minh\"].head(3)"
   ]
  },
  {
   "cell_type": "code",
   "execution_count": 8,
   "metadata": {},
   "outputs": [
    {
     "data": {
      "text/html": [
       "<div>\n",
       "<style scoped>\n",
       "    .dataframe tbody tr th:only-of-type {\n",
       "        vertical-align: middle;\n",
       "    }\n",
       "\n",
       "    .dataframe tbody tr th {\n",
       "        vertical-align: top;\n",
       "    }\n",
       "\n",
       "    .dataframe thead th {\n",
       "        text-align: right;\n",
       "    }\n",
       "</style>\n",
       "<table border=\"1\" class=\"dataframe\">\n",
       "  <thead>\n",
       "    <tr style=\"text-align: right;\">\n",
       "      <th></th>\n",
       "      <th>Confirmed</th>\n",
       "    </tr>\n",
       "    <tr>\n",
       "      <th>Date</th>\n",
       "      <th></th>\n",
       "    </tr>\n",
       "  </thead>\n",
       "  <tbody>\n",
       "    <tr>\n",
       "      <th>2021-11-25</th>\n",
       "      <td>12429.0</td>\n",
       "    </tr>\n",
       "    <tr>\n",
       "      <th>2021-11-26</th>\n",
       "      <td>13094.0</td>\n",
       "    </tr>\n",
       "    <tr>\n",
       "      <th>2021-11-27</th>\n",
       "      <td>13048.0</td>\n",
       "    </tr>\n",
       "  </tbody>\n",
       "</table>\n",
       "</div>"
      ],
      "text/plain": [
       "            Confirmed\n",
       "Date                 \n",
       "2021-11-25    12429.0\n",
       "2021-11-26    13094.0\n",
       "2021-11-27    13048.0"
      ]
     },
     "execution_count": 8,
     "metadata": {},
     "output_type": "execute_result"
    }
   ],
   "source": [
    "datewise = df_long.groupby([\"Date\"]).agg({\"Confirmed\":'sum'})\n",
    "datewise.tail(3)"
   ]
  },
  {
   "cell_type": "code",
   "execution_count": 9,
   "metadata": {},
   "outputs": [
    {
     "name": "stdout",
     "output_type": "stream",
     "text": [
      "<class 'pandas.core.frame.DataFrame'>\n",
      "DatetimeIndex: 214 entries, 2021-04-27 to 2021-11-27\n",
      "Data columns (total 1 columns):\n",
      " #   Column     Non-Null Count  Dtype  \n",
      "---  ------     --------------  -----  \n",
      " 0   Confirmed  214 non-null    float64\n",
      "dtypes: float64(1)\n",
      "memory usage: 3.3 KB\n"
     ]
    }
   ],
   "source": [
    "datewise.info()"
   ]
  },
  {
   "cell_type": "code",
   "execution_count": 10,
   "metadata": {},
   "outputs": [
    {
     "data": {
      "text/html": [
       "<div>\n",
       "<style scoped>\n",
       "    .dataframe tbody tr th:only-of-type {\n",
       "        vertical-align: middle;\n",
       "    }\n",
       "\n",
       "    .dataframe tbody tr th {\n",
       "        vertical-align: top;\n",
       "    }\n",
       "\n",
       "    .dataframe thead th {\n",
       "        text-align: right;\n",
       "    }\n",
       "</style>\n",
       "<table border=\"1\" class=\"dataframe\">\n",
       "  <thead>\n",
       "    <tr style=\"text-align: right;\">\n",
       "      <th></th>\n",
       "      <th>Confirmed</th>\n",
       "    </tr>\n",
       "    <tr>\n",
       "      <th>Date</th>\n",
       "      <th></th>\n",
       "    </tr>\n",
       "  </thead>\n",
       "  <tbody>\n",
       "    <tr>\n",
       "      <th>2021-11-25</th>\n",
       "      <td>1582.0</td>\n",
       "    </tr>\n",
       "    <tr>\n",
       "      <th>2021-11-26</th>\n",
       "      <td>1809.0</td>\n",
       "    </tr>\n",
       "    <tr>\n",
       "      <th>2021-11-27</th>\n",
       "      <td>1773.0</td>\n",
       "    </tr>\n",
       "  </tbody>\n",
       "</table>\n",
       "</div>"
      ],
      "text/plain": [
       "            Confirmed\n",
       "Date                 \n",
       "2021-11-25     1582.0\n",
       "2021-11-26     1809.0\n",
       "2021-11-27     1773.0"
      ]
     },
     "execution_count": 10,
     "metadata": {},
     "output_type": "execute_result"
    }
   ],
   "source": [
    "# lấy dữ liệu của riêng TP.HCM\n",
    "HCM_data = df_long[df_long[\"Province\"]== \"Ho Chi Minh\"]\n",
    "datewise_HCM = HCM_data.groupby([\"Date\"]).agg({\"Confirmed\":'sum'})\n",
    "datewise_HCM.tail(3)"
   ]
  },
  {
   "cell_type": "code",
   "execution_count": 11,
   "metadata": {},
   "outputs": [
    {
     "data": {
      "text/html": [
       "<div>\n",
       "<style scoped>\n",
       "    .dataframe tbody tr th:only-of-type {\n",
       "        vertical-align: middle;\n",
       "    }\n",
       "\n",
       "    .dataframe tbody tr th {\n",
       "        vertical-align: top;\n",
       "    }\n",
       "\n",
       "    .dataframe thead th {\n",
       "        text-align: right;\n",
       "    }\n",
       "</style>\n",
       "<table border=\"1\" class=\"dataframe\">\n",
       "  <thead>\n",
       "    <tr style=\"text-align: right;\">\n",
       "      <th></th>\n",
       "      <th>Confirmed</th>\n",
       "      <th>Days Since</th>\n",
       "    </tr>\n",
       "    <tr>\n",
       "      <th>Date</th>\n",
       "      <th></th>\n",
       "      <th></th>\n",
       "    </tr>\n",
       "  </thead>\n",
       "  <tbody>\n",
       "    <tr>\n",
       "      <th>2021-11-25</th>\n",
       "      <td>1582.0</td>\n",
       "      <td>212</td>\n",
       "    </tr>\n",
       "    <tr>\n",
       "      <th>2021-11-26</th>\n",
       "      <td>1809.0</td>\n",
       "      <td>213</td>\n",
       "    </tr>\n",
       "    <tr>\n",
       "      <th>2021-11-27</th>\n",
       "      <td>1773.0</td>\n",
       "      <td>214</td>\n",
       "    </tr>\n",
       "  </tbody>\n",
       "</table>\n",
       "</div>"
      ],
      "text/plain": [
       "            Confirmed  Days Since\n",
       "Date                             \n",
       "2021-11-25     1582.0         212\n",
       "2021-11-26     1809.0         213\n",
       "2021-11-27     1773.0         214"
      ]
     },
     "execution_count": 11,
     "metadata": {},
     "output_type": "execute_result"
    }
   ],
   "source": [
    "# lấy dữ liệu index Date cho cột Dates since\n",
    "#  Dates since = từng hàng index - cho index ở vị trí 0\n",
    "datewise_HCM[\"Days Since\"] = datewise_HCM.index-datewise_HCM.index[0]\n",
    "datewise_HCM[\"Days Since\"] = datewise_HCM[\"Days Since\"].dt.days\n",
    "datewise_HCM.tail(3)"
   ]
  },
  {
   "cell_type": "code",
   "execution_count": 12,
   "metadata": {},
   "outputs": [],
   "source": [
    "# lấy dữ liệu 21 ngày gần nhất \n",
    "datewise_HCM = datewise_HCM[(datewise_HCM[\"Days Since\"].count() - 21):]"
   ]
  },
  {
   "cell_type": "code",
   "execution_count": 13,
   "metadata": {},
   "outputs": [],
   "source": [
    "train = datewise_HCM.iloc[:int(datewise_HCM.shape[0]*0.80)]\n",
    "valid = datewise_HCM.iloc[int(datewise_HCM.shape[0]*0.80):]"
   ]
  },
  {
   "cell_type": "code",
   "execution_count": 14,
   "metadata": {},
   "outputs": [],
   "source": [
    "day=2 # ngày sự đoánday=1 # ngày sự đoán"
   ]
  },
  {
   "cell_type": "code",
   "execution_count": 15,
   "metadata": {},
   "outputs": [],
   "source": [
    "def plot_result(data_d,new_date_time_index, forecast, gcolor, gcase, gtitle):\n",
    "    '''Hàm vẽ biểu đồ'''\n",
    "    plt.figure(figsize=(13,7))\n",
    "    plt.style.use('seaborn-white')\n",
    "    plt.plot(data_d,label=\"Actual \"+gcase,color=gcolor, linestyle='solid', linewidth = 3, marker='o', markerfacecolor=gcolor, markersize=12)\n",
    "    plt.plot(new_date_time_index,forecast,label=\"Predicted \"+gcase,color='black', linestyle='solid', linewidth = 3, marker='*', markerfacecolor='black', markersize=12)\n",
    "    plt.xticks(rotation=60)\n",
    "    plt.legend(frameon=True) "
   ]
  },
  {
   "cell_type": "code",
   "execution_count": 53,
   "metadata": {},
   "outputs": [],
   "source": [
    "# hàm tính dự báo mới\n",
    "def new_forecast(prediction,new_prediction,new_date):\n",
    "    # concat 2 dự doán lại\n",
    "    forecast=np.concatenate((prediction,new_prediction))\n",
    "    new_ar = []\n",
    "    \n",
    "    for single_timestamp in datewise_HCM.index:\n",
    "        new_ar.append(pd.to_datetime(single_timestamp))\n",
    "    \n",
    "    #dự báo cho ngày mới\n",
    "    for single_timestamp in new_date:\n",
    "        new_ar.append(pd.to_datetime(single_timestamp))\n",
    "    #tính ngày mới\n",
    "    new_date_time_index = DatetimeIndex(new_ar, dtype='datetime64[ns]', name='Date', freq=None)\n",
    "\n",
    "    return (forecast,new_date_time_index)"
   ]
  },
  {
   "cell_type": "code",
   "execution_count": 54,
   "metadata": {},
   "outputs": [],
   "source": [
    "#  Tinh MAE va MSE\n",
    "def eval_reg(y,y_p):\n",
    "    # hàm tính các giá trị để đánh giá mô hình \n",
    "    print(\"Mean Absolute Error: \",mean_absolute_error(y,y_p))  \n",
    "    print(\"Mean Squared Error: \", mean_squared_error(y, y_p))"
   ]
  },
  {
   "cell_type": "code",
   "execution_count": 58,
   "metadata": {},
   "outputs": [],
   "source": [
    "def linearRegression_covid_19(train_d,valid_d,data_d,case):\n",
    "    '''Hàm train  hồi qui tuyến tính'''\n",
    "    # khởi tạo Model\n",
    "    lin_reg=LinearRegression(normalize=True)\n",
    "    # fit model\n",
    "    lin_reg.fit(np.array(train[\"Days Since\"]).reshape(-1,1),np.array(train_d).reshape(-1,1))\n",
    "    # bắt đầu dự đoán dựa vào valid\n",
    "    prediction_valid_linreg=lin_reg.predict(np.array(valid[\"Days Since\"]).reshape(-1,1))\n",
    "    print(\"Valid: \",prediction_valid_linreg)\n",
    "    \n",
    "    # gọm hàm tính các giá trị để đánh giá \n",
    "    eval_reg(valid_d,prediction_valid_linreg)\n",
    "    \n",
    "    prediction_linreg=lin_reg.predict(np.array(datewise_HCM[\"Days Since\"]).reshape(-1,1))\n",
    "    # khởi tạo 2 list để lưu Ngày và số ca nhiễm Covid-19 của ngày đó\n",
    "    new_date=[]\n",
    "    new_prediction_lr=[]\n",
    "    \n",
    "    #dự đoán số ngày tiếp theo \n",
    "    for i in range(1,day):\n",
    "        new_date.append(datewise_HCM.index[-1]+timedelta(days=i))\n",
    "        new_prediction_lr.append(lin_reg.predict(np.array(datewise_HCM[\"Days Since\"].max()+i).reshape(-1,1))[0])\n",
    "    \n",
    "    # in dự đoán về  ngày và số ca nhiễm \n",
    "    for i in range(len(new_date)):\n",
    "        print(new_date[i],new_prediction_lr[i])\n",
    "    forecast_lr, new_date_time_index =new_forecast(prediction_linreg,new_prediction_lr,new_date)\n",
    "    \n",
    "    return (forecast_lr, new_date_time_index)"
   ]
  },
  {
   "cell_type": "code",
   "execution_count": 45,
   "metadata": {},
   "outputs": [
    {
     "name": "stdout",
     "output_type": "stream",
     "text": [
      "Confirmed Cases\n",
      "Valid:  [[1586.50649351]]\n",
      "Mean Absolute Error:  186.49350649350617\n",
      "Mean Squared Error:  34779.82796424343\n",
      "2021-11-28 00:00:00 [1610.21428571]\n",
      "Execution Time 0.046875\n"
     ]
    },
    {
     "data": {
      "image/png": "[encoded data removed]",
      "text/plain": [
       "<Figure size 936x504 with 1 Axes>"
      ]
     },
     "metadata": {},
     "output_type": "display_data"
    }
   ],
   "source": [
    "t1 = time.process_time()\n",
    "\n",
    "forecast_lr_c, new_date_time_index_c = linearRegression_covid_19(train[\"Confirmed\"],valid[\"Confirmed\"],datewise_HCM[\"Confirmed\"],'Confirmed Cases')\n",
    "# vẽ biểu đồ \n",
    "plot_result(datewise_HCM[\"Confirmed\"],new_date_time_index_c, forecast_lr_c,'blue','Cases', 'Linear Regression')\n",
    "# tính thời gian thực hiện\n",
    "elapsed_time_lr = time.process_time() - t1\n",
    "\n",
    "print(\"Execution Time\", elapsed_time_lr)"
   ]
  },
  {
   "cell_type": "code",
   "execution_count": 20,
   "metadata": {},
   "outputs": [],
   "source": [
    "train = datewise_HCM.iloc[:]\n",
    "valid = datewise_HCM.iloc[-1:]"
   ]
  },
  {
   "cell_type": "markdown",
   "metadata": {},
   "source": [
    "### RandomForestRegression tụi em dùng để dự đoán ngày tiếp theo"
   ]
  },
  {
   "cell_type": "code",
   "execution_count": 56,
   "metadata": {},
   "outputs": [],
   "source": [
    "def RandomForestRegression_covid_19(train_d,valid_d,data_d,case):\n",
    "    # khởi tạo Model\n",
    "    rf=RandomForestRegressor(n_estimators=100, random_state=42,n_jobs=-1)\n",
    "    # train Model\n",
    "    rf.fit(np.array(train[\"Days Since\"]).reshape(-1,1),np.array(train_d).reshape(-1,1))\n",
    "    # bắt đầu dự đoán dựa vào valid\n",
    "    prediction_valid_rf=rf.predict(np.array(valid[\"Days Since\"]).reshape(-1,1))\n",
    "    \n",
    "    # gọm hàm tính các giá trị để đánh giá \n",
    "    eval_reg(valid_d,prediction_valid_rf)\n",
    "    \n",
    "    # bắt đầu dự đoán dựa vào tập train\n",
    "    prediction_rf=rf.predict(np.array(datewise_HCM[\"Days Since\"]).reshape(-1,1))\n",
    "    # khởi tạo 2 list để lưu Ngày và số ca nhiễm Covid-19 của ngày đó\n",
    "    new_date=[]\n",
    "    new_prediction_rf=[]\n",
    "    \n",
    "    # dự đoán số ngày tiếp theo \n",
    "    for i in range(1,day):\n",
    "        new_date.append(datewise_HCM.index[-1]+timedelta(days=i))\n",
    "        new_prediction_rf.append(rf.predict(np.array(datewise_HCM[\"Days Since\"].max()+i).reshape(-1,1))[0]) \n",
    "    print (f\"date :{new_date} , predicted confirmed case{new_prediction_rf}\")\n",
    "    forecast_rf, new_date_time_index = new_forecast(prediction_rf,new_prediction_rf,new_date)\n",
    "    \n",
    "    return (forecast_rf, new_date_time_index)"
   ]
  },
  {
   "cell_type": "code",
   "execution_count": 57,
   "metadata": {},
   "outputs": [
    {
     "name": "stderr",
     "output_type": "stream",
     "text": [
      "<ipython-input-56-4a76b561bbab>:5: DataConversionWarning: A column-vector y was passed when a 1d array was expected. Please change the shape of y to (n_samples,), for example using ravel().\n",
      "  rf.fit(np.array(train[\"Days Since\"]).reshape(-1,1),np.array(train_d).reshape(-1,1))\n"
     ]
    },
    {
     "name": "stdout",
     "output_type": "stream",
     "text": [
      "Mean Absolute Error:  17.710000000000036\n",
      "Mean Squared Error:  313.6441000000013\n",
      "date :[Timestamp('2021-11-28 00:00:00')] , predicted confirmed case[1755.29]\n",
      "Execution Time 0.46875\n"
     ]
    },
    {
     "data": {
      "image/png": "[encoded data removed]",
      "text/plain": [
       "<Figure size 936x504 with 1 Axes>"
      ]
     },
     "metadata": {},
     "output_type": "display_data"
    }
   ],
   "source": [
    "t2 = time.process_time()\n",
    "forecast_lr_c, new_date_time_index_c = RandomForestRegression_covid_19(train[\"Confirmed\"],valid[\"Confirmed\"],datewise_HCM[\"Confirmed\"],'Confirmed Cases')\n",
    "\n",
    "# vẽ biểu đồ \n",
    "plot_result(datewise_HCM[\"Confirmed\"],new_date_time_index_c, forecast_lr_c,'blue','Cases', 'Linear Regression')\n",
    "# tính thời gian thực hiện\n",
    "elapsed_time_RF = time.process_time() - t2\n",
    "print(\"Execution Time\", elapsed_time_RF)\n"
   ]
  },
  {
   "cell_type": "code",
   "execution_count": 28,
   "metadata": {},
   "outputs": [
    {
     "name": "stdout",
     "output_type": "stream",
     "text": [
      "Time for LR 0.078125\n",
      "Time for RF 0.453125\n"
     ]
    }
   ],
   "source": [
    "print(\"Time for LR\", elapsed_time_lr)\n",
    "print(\"Time for RF\", elapsed_time_RF)"
   ]
  },
  {
   "cell_type": "code",
   "execution_count": null,
   "metadata": {},
   "outputs": [],
   "source": []
  },
  {
   "cell_type": "code",
   "execution_count": null,
   "metadata": {},
   "outputs": [],
   "source": []
  },
  {
   "cell_type": "code",
   "execution_count": null,
   "metadata": {},
   "outputs": [],
   "source": []
  },
  {
   "cell_type": "code",
   "execution_count": null,
   "metadata": {},
   "outputs": [],
   "source": []
  },
  {
   "cell_type": "code",
   "execution_count": null,
   "metadata": {},
   "outputs": [],
   "source": []
  },
  {
   "cell_type": "code",
   "execution_count": null,
   "metadata": {},
   "outputs": [],
   "source": []
  },
  {
   "cell_type": "code",
   "execution_count": null,
   "metadata": {},
   "outputs": [],
   "source": []
  },
  {
   "cell_type": "code",
   "execution_count": null,
   "metadata": {},
   "outputs": [],
   "source": []
  },
  {
   "cell_type": "code",
   "execution_count": null,
   "metadata": {},
   "outputs": [],
   "source": []
  },
  {
   "cell_type": "code",
   "execution_count": null,
   "metadata": {},
   "outputs": [],
   "source": []
  },
  {
   "cell_type": "code",
   "execution_count": null,
   "metadata": {},
   "outputs": [],
   "source": []
  },
  {
   "cell_type": "code",
   "execution_count": null,
   "metadata": {},
   "outputs": [],
   "source": []
  },
  {
   "cell_type": "code",
   "execution_count": null,
   "metadata": {},
   "outputs": [],
   "source": []
  }
 ],
 "metadata": {
  "kernelspec": {
   "display_name": "Python 3",
   "language": "python",
   "name": "python3"
  },
  "language_info": {
   "codemirror_mode": {
    "name": "ipython",
    "version": 3
   },
   "file_extension": ".py",
   "mimetype": "text/x-python",
   "name": "python",
   "nbconvert_exporter": "python",
   "pygments_lexer": "ipython3",
   "version": "3.8.3"
  }
 },
 "nbformat": 4,
 "nbformat_minor": 4
}
